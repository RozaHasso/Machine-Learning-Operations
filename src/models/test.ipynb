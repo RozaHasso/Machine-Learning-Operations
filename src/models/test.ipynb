{
 "cells": [
  {
   "cell_type": "code",
   "execution_count": null,
   "metadata": {},
   "outputs": [],
   "source": [
    "import numpy as np\n",
    "from model import init_model\n",
    "import torch\n",
    "from torch.utils.data import DataLoader\n",
    "\n",
    "test_set = torch.load(\"data/processed/test_dataset\")\n",
    "test_set = DataLoader(test_set, batch_size = 64, shuffle=True)\n",
    "\n",
    "for images,labels in test_set:\n",
    "    print(images[0].shape)\n",
    "    print(images[0].cpu().detach().numpy())\n",
    "    # np.savetxt('test.out', images[0].cpu().detach().numpy())"
   ]
  }
 ],
 "metadata": {
  "language_info": {
   "name": "python"
  },
  "orig_nbformat": 4
 },
 "nbformat": 4,
 "nbformat_minor": 2
}
